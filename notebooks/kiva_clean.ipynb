{
 "cells": [
  {
   "cell_type": "code",
   "execution_count": 1,
   "id": "embedded-lambda",
   "metadata": {},
   "outputs": [],
   "source": [
    "import pandas as pd\n",
    "import numpy as np\n",
    "import datetime\n",
    "import boto3\n",
    "from matplotlib import pyplot as plt\n",
    "from matplotlib.dates import DateFormatter, date2num\n",
    "import seaborn as sns\n",
    "import scipy.stats as stats\n",
    "import difflib"
   ]
  },
  {
   "cell_type": "code",
   "execution_count": 2,
   "id": "spiritual-mortgage",
   "metadata": {},
   "outputs": [],
   "source": [
    "#reads in sample of kiva data (10k rows)\n",
    "loan = pd.read_csv('../data/sample_data.csv')"
   ]
  },
  {
   "cell_type": "code",
   "execution_count": 3,
   "id": "excellent-helena",
   "metadata": {},
   "outputs": [],
   "source": [
    "#converting string representations of time to Datetime objects\n",
    "loan['posted_datetime'] = pd.to_datetime(loan['POSTED_TIME'])\n",
    "loan['raised_datetime'] = pd.to_datetime(loan['RAISED_TIME'])\n",
    "\n",
    "#creates loan_speed column as difference between raised and posted datetimes\n",
    "loan['loan_speed'] = loan['raised_datetime']-loan['posted_datetime']\n",
    "\n",
    "#represents time to raising loan in number of days (for matplotlib)\n",
    "loan['loanspeed_days'] = loan['loan_speed'] / pd.Timedelta(hours=24)\n",
    "\n",
    "#drops na values\n",
    "loan.dropna(subset=['raised_datetime'], inplace=True)\n",
    "\n",
    "#creates loan_year column \n",
    "loan['loan_year'] = [loan['raised_datetime'][x].year for x in loan.index]\n"
   ]
  },
  {
   "cell_type": "code",
   "execution_count": 4,
   "id": "promotional-cradle",
   "metadata": {},
   "outputs": [],
   "source": [
    "#Function for counting number of borrowers from number of entries in gender column \n",
    "def count_borrowers(lst):\n",
    "    if type(lst) != float:\n",
    "        return len(lst.split(','))\n",
    "    else:\n",
    "        return 1\n",
    "\n",
    "loan['borrower_n'] = loan['BORROWER_GENDERS'].apply(count_borrowers)\n"
   ]
  },
  {
   "cell_type": "code",
   "execution_count": 5,
   "id": "variable-compiler",
   "metadata": {},
   "outputs": [],
   "source": [
    "#reads in csv of purchasing power parity values from world bank\n",
    "#first four rows are skipped to avoid irrelevant metadata\n",
    "ppp = pd.read_csv('../data/world_bank_ppp.csv', skiprows=4, index_col='Country Name')\n",
    "\n",
    "#Renames Country Name column to match loan dataframe for merge \n",
    "#ppp.rename(columns={'Country Name': 'COUNTRY_NAME'}, inplace=True)\n",
    "\n"
   ]
  },
  {
   "cell_type": "code",
   "execution_count": 6,
   "id": "informal-accommodation",
   "metadata": {},
   "outputs": [
    {
     "data": {
      "text/plain": [
       "0.580266058444977"
      ]
     },
     "execution_count": 6,
     "metadata": {},
     "output_type": "execute_result"
    }
   ],
   "source": [
    "def rel_ppp(country, loan_year):\n",
    "    for c, y in zip(country, loan_year):\n",
    "        if y == 2020:\n",
    "            loan.at[c, '2019']\n",
    "        elif y <= 2020:\n",
    "            return ppp.at[c, str(y)]\n",
    "        else:\n",
    "            return 0\n",
    "\n",
    "rel_ppp(loan['COUNTRY_NAME'], loan['loan_year'])"
   ]
  },
  {
   "cell_type": "code",
   "execution_count": 7,
   "id": "loaded-pixel",
   "metadata": {},
   "outputs": [
    {
     "name": "stdout",
     "output_type": "stream",
     "text": [
      "myanmar (burma)\n",
      "lao people's democratic republic\n",
      "congo\n",
      "the democratic republic of the congo\n",
      "yemen\n",
      "palestine\n",
      "egypt\n",
      "kyrgyzstan\n"
     ]
    }
   ],
   "source": [
    "\n",
    "\n",
    "#Check for spelling difference between country names in loan data and county names in ppp data\n",
    "\n",
    "ppp.reset_index(inplace=True)\n",
    "\n",
    "#set all countries names to lower case \n",
    "loan['COUNTRY_NAME'] = [c.lower() for c in loan['COUNTRY_NAME']]\n",
    "ppp['Country Name'] = [c.lower() for c in ppp['Country Name']]\n",
    "\n",
    "#returns list of countries that are not matches between the data sets\n",
    "for c in set(loan['COUNTRY_NAME']):\n",
    "    match_tup = (c, difflib.get_close_matches(c, ppp['Country Name'], cutoff=1))\n",
    "    if match_tup[1] == []:\n",
    "        print(match_tup[0])\n",
    "        \n",
    "\n"
   ]
  },
  {
   "cell_type": "code",
   "execution_count": 8,
   "id": "marine-index",
   "metadata": {},
   "outputs": [],
   "source": [
    "#Only 8 out of 82 countries are not matches. Most of the remaining difference are due to political\n",
    "#differences in naming, rather than failure to do a fuzzy match. \n",
    "\n",
    "\n",
    "\n",
    "ppp = ppp.rename(index={'west bank and gaza':'palestine', 'congo, rep':'congo', 'myanmar ':'myanmar (burma)',\n",
    "'yemen, rep.':'yemen', 'lao pdr':'lao people''s democratic republic',\n",
    "'congo, dem. rep.':'the democratic republic of the congo', 'egypt arab rep.': 'egypt'})"
   ]
  },
  {
   "cell_type": "code",
   "execution_count": 9,
   "id": "bigger-reach",
   "metadata": {},
   "outputs": [
    {
     "data": {
      "text/plain": [
       "Index(['aruba', 'afghanistan', 'angola', 'albania', 'andorra', 'arab world',\n",
       "       'united arab emirates', 'argentina', 'armenia', 'american samoa',\n",
       "       ...\n",
       "       'virgin islands (u.s.)', 'vietnam', 'vanuatu', 'world', 'samoa',\n",
       "       'kosovo', 'yemen, rep.', 'south africa', 'zambia', 'zimbabwe'],\n",
       "      dtype='object', name='Country Name', length=264)"
      ]
     },
     "execution_count": 9,
     "metadata": {},
     "output_type": "execute_result"
    }
   ],
   "source": [
    "ppp.set_index('Country Name', inplace=True)\n",
    "ppp.index"
   ]
  },
  {
   "cell_type": "code",
   "execution_count": 10,
   "id": "governmental-merit",
   "metadata": {},
   "outputs": [],
   "source": [
    "    \n",
    "holder = []\n",
    "for c,y in zip(loan['COUNTRY_NAME'], loan['loan_year']):\n",
    "    holder.append([c,y])\n",
    "\n",
    "\n"
   ]
  },
  {
   "cell_type": "code",
   "execution_count": 11,
   "id": "changing-allergy",
   "metadata": {},
   "outputs": [],
   "source": [
    "for i in range(len(holder)):\n",
    "    if holder[i][0] not in ppp.index:\n",
    "        holder[i].append(np.nan)\n",
    "    elif np.isnan(ppp.loc[holder[i][0], str(holder[i][1])]):\n",
    "        if (ppp.loc[holder[i][0], str(holder[i][1]-1)]):\n",
    "            holder[i].append(ppp.loc[holder[i][0], str(holder[i][1]-1)])\n",
    "        elif (ppp.loc[holder[i][0], str(holder[i][1]-2)]):\n",
    "            holder[i].append(ppp.loc[holder[i][0], str(holder[i][1]-2)])\n",
    "        else:    \n",
    "            holder[i].append(np.nan)\n",
    "    else:\n",
    "        holder[i].append(ppp.loc[holder[i][0],str(holder[i][1])])\n",
    "        \n",
    "\n"
   ]
  },
  {
   "cell_type": "code",
   "execution_count": 14,
   "id": "imperial-brother",
   "metadata": {},
   "outputs": [],
   "source": [
    "loan['ppp'] = [holder[c][2] for c in range(len(holder))]\n",
    "\n"
   ]
  },
  {
   "cell_type": "code",
   "execution_count": 15,
   "id": "republican-uncertainty",
   "metadata": {},
   "outputs": [],
   "source": [
    "\n",
    "loan['ppp'].dropna(inplace=True)"
   ]
  },
  {
   "cell_type": "code",
   "execution_count": 19,
   "id": "distinct-access",
   "metadata": {},
   "outputs": [
    {
     "name": "stdout",
     "output_type": "stream",
     "text": [
      "<class 'pandas.core.frame.DataFrame'>\n",
      "Int64Index: 9500 entries, 0 to 9999\n",
      "Data columns (total 42 columns):\n",
      " #   Column                           Non-Null Count  Dtype              \n",
      "---  ------                           --------------  -----              \n",
      " 0   Unnamed: 0                       9500 non-null   int64              \n",
      " 1   LOAN_ID                          9500 non-null   int64              \n",
      " 2   LOAN_NAME                        9264 non-null   object             \n",
      " 3   ORIGINAL_LANGUAGE                9284 non-null   object             \n",
      " 4   DESCRIPTION                      9284 non-null   object             \n",
      " 5   DESCRIPTION_TRANSLATED           7124 non-null   object             \n",
      " 6   FUNDED_AMOUNT                    9500 non-null   float64            \n",
      " 7   LOAN_AMOUNT                      9500 non-null   float64            \n",
      " 8   STATUS                           9500 non-null   object             \n",
      " 9   IMAGE_ID                         9284 non-null   float64            \n",
      " 10  VIDEO_ID                         4 non-null      float64            \n",
      " 11  ACTIVITY_NAME                    9500 non-null   object             \n",
      " 12  SECTOR_NAME                      9500 non-null   object             \n",
      " 13  LOAN_USE                         9284 non-null   object             \n",
      " 14  COUNTRY_CODE                     9500 non-null   object             \n",
      " 15  COUNTRY_NAME                     9500 non-null   object             \n",
      " 16  TOWN_NAME                        8746 non-null   object             \n",
      " 17  CURRENCY_POLICY                  9500 non-null   object             \n",
      " 18  CURRENCY_EXCHANGE_COVERAGE_RATE  7645 non-null   float64            \n",
      " 19  CURRENCY                         9500 non-null   object             \n",
      " 20  PARTNER_ID                       9407 non-null   float64            \n",
      " 21  POSTED_TIME                      9500 non-null   object             \n",
      " 22  PLANNED_EXPIRATION_TIME          7865 non-null   object             \n",
      " 23  DISBURSE_TIME                    9500 non-null   object             \n",
      " 24  RAISED_TIME                      9500 non-null   object             \n",
      " 25  LENDER_TERM                      9500 non-null   int64              \n",
      " 26  NUM_LENDERS_TOTAL                9500 non-null   int64              \n",
      " 27  NUM_JOURNAL_ENTRIES              9500 non-null   int64              \n",
      " 28  NUM_BULK_ENTRIES                 9500 non-null   int64              \n",
      " 29  TAGS                             5200 non-null   object             \n",
      " 30  BORROWER_NAMES                   9264 non-null   object             \n",
      " 31  BORROWER_GENDERS                 9284 non-null   object             \n",
      " 32  BORROWER_PICTURED                9284 non-null   object             \n",
      " 33  REPAYMENT_INTERVAL               9500 non-null   object             \n",
      " 34  DISTRIBUTION_MODEL               9500 non-null   object             \n",
      " 35  posted_datetime                  9500 non-null   datetime64[ns, UTC]\n",
      " 36  raised_datetime                  9500 non-null   datetime64[ns, UTC]\n",
      " 37  loan_speed                       9500 non-null   timedelta64[ns]    \n",
      " 38  loanspeed_days                   9500 non-null   float64            \n",
      " 39  loan_year                        9500 non-null   int64              \n",
      " 40  borrower_n                       9500 non-null   int64              \n",
      " 41  ppp                              9036 non-null   float64            \n",
      "dtypes: datetime64[ns, UTC](2), float64(8), int64(8), object(23), timedelta64[ns](1)\n",
      "memory usage: 3.4+ MB\n"
     ]
    }
   ],
   "source": [
    "loan.info()"
   ]
  },
  {
   "cell_type": "code",
   "execution_count": 20,
   "id": "possible-avatar",
   "metadata": {},
   "outputs": [],
   "source": [
    "loan['ppp_val'] = loan['ppp'] * loan['LOAN_AMOUNT']"
   ]
  },
  {
   "cell_type": "code",
   "execution_count": 21,
   "id": "exotic-decade",
   "metadata": {},
   "outputs": [
    {
     "data": {
      "text/plain": [
       "0         478.719498\n",
       "1       10010.628319\n",
       "2         628.918314\n",
       "3        4283.709240\n",
       "4                NaN\n",
       "            ...     \n",
       "9995      847.752582\n",
       "9996     6802.964211\n",
       "9997     4258.328247\n",
       "9998      304.920734\n",
       "9999      904.070076\n",
       "Name: ppp_val, Length: 9500, dtype: float64"
      ]
     },
     "execution_count": 21,
     "metadata": {},
     "output_type": "execute_result"
    }
   ],
   "source": []
  },
  {
   "cell_type": "code",
   "execution_count": null,
   "id": "sweet-destruction",
   "metadata": {
    "collapsed": true
   },
   "outputs": [],
   "source": []
  }
 ],
 "metadata": {
  "kernelspec": {
   "display_name": "Python 3",
   "language": "python",
   "name": "python3"
  },
  "language_info": {
   "codemirror_mode": {
    "name": "ipython",
    "version": 3
   },
   "file_extension": ".py",
   "mimetype": "text/x-python",
   "name": "python",
   "nbconvert_exporter": "python",
   "pygments_lexer": "ipython3",
   "version": "3.9.1"
  }
 },
 "nbformat": 4,
 "nbformat_minor": 5
}
