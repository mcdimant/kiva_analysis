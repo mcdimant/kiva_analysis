{
 "cells": [
  {
   "cell_type": "code",
   "execution_count": 1,
   "id": "exciting-address",
   "metadata": {},
   "outputs": [],
   "source": [
    "import pandas as pd\n",
    "import numpy as np\n",
    "import datetime\n",
    "import boto3\n",
    "from matplotlib import pyplot as plt\n",
    "from matplotlib.dates import DateFormatter, date2num\n",
    "import seaborn as sns\n",
    "import scipy.stats as stats\n",
    "import difflib"
   ]
  },
  {
   "cell_type": "code",
   "execution_count": 2,
   "id": "social-crown",
   "metadata": {},
   "outputs": [],
   "source": [
    "#reads in sample of kiva data (10k rows)\n",
    "loan = pd.read_csv('../data/sample_data.csv')"
   ]
  },
  {
   "cell_type": "code",
   "execution_count": 3,
   "id": "computational-mexican",
   "metadata": {},
   "outputs": [],
   "source": [
    "\n",
    "#converting string representations of time to Datetime objects\n",
    "loan['posted_datetime'] = pd.to_datetime(loan['POSTED_TIME'])\n",
    "loan['raised_datetime'] = pd.to_datetime(loan['RAISED_TIME'])\n",
    "\n",
    "#creates loan_speed column as difference between raised and posted datetimes\n",
    "loan['loan_speed'] = loan['raised_datetime']-loan['posted_datetime']\n",
    "\n",
    "#represents time to raising loan in number of days (for matplotlib)\n",
    "loan['loanspeed_days'] = loan['loan_speed'] / pd.Timedelta(hours=24)\n",
    "\n",
    "#drops na values\n",
    "loan.dropna(subset=['raised_datetime'], inplace=True)\n",
    "\n",
    "#creates loan_year column \n",
    "loan['loan_year'] = [loan['raised_datetime'][x].year for x in loan.index]\n"
   ]
  },
  {
   "cell_type": "code",
   "execution_count": 4,
   "id": "structured-assembly",
   "metadata": {},
   "outputs": [],
   "source": [
    "#Function for counting number of borrowers from number of entries in gender column \n",
    "def count_borrowers(lst):\n",
    "    if type(lst) != float:\n",
    "        return len(lst.split(','))\n",
    "    else:\n",
    "        return 1\n",
    "\n",
    "loan['borrower_n'] = loan['BORROWER_GENDERS'].apply(count_borrowers)\n"
   ]
  },
  {
   "cell_type": "code",
   "execution_count": 5,
   "id": "distant-subscription",
   "metadata": {},
   "outputs": [],
   "source": [
    "#reads in csv of purchasing power parity values from world bank\n",
    "#first four rows are skipped to avoid irrelevant metadata\n",
    "ppp = pd.read_csv('../data/world_bank_ppp.csv', skiprows=4, index_col='Country Name')\n",
    "\n",
    "\n"
   ]
  },
  {
   "cell_type": "code",
   "execution_count": 6,
   "id": "together-shell",
   "metadata": {},
   "outputs": [
    {
     "data": {
      "text/plain": [
       "0.580266058444977"
      ]
     },
     "execution_count": 6,
     "metadata": {},
     "output_type": "execute_result"
    }
   ],
   "source": [
    "def rel_ppp(country, loan_year):\n",
    "    for c, y in zip(country, loan_year):\n",
    "        if y == 2020:\n",
    "            loan.at[c, '2019']\n",
    "        elif y <= 2020:\n",
    "            return ppp.at[c, str(y)]\n",
    "        else:\n",
    "            return 0\n",
    "\n",
    "rel_ppp(loan['COUNTRY_NAME'], loan['loan_year'])"
   ]
  },
  {
   "cell_type": "code",
   "execution_count": 7,
   "id": "southwest-addiction",
   "metadata": {},
   "outputs": [
    {
     "name": "stdout",
     "output_type": "stream",
     "text": [
      "myanmar (burma)\n",
      "lao people's democratic republic\n",
      "congo\n",
      "the democratic republic of the congo\n",
      "yemen\n",
      "palestine\n",
      "egypt\n",
      "kyrgyzstan\n"
     ]
    }
   ],
   "source": [
    "\n",
    "\n",
    "#Check for spelling difference between country names in loan data and county names in ppp data\n",
    "\n",
    "ppp.reset_index(inplace=True)\n",
    "\n",
    "#set all countries names to lower case \n",
    "loan['COUNTRY_NAME'] = [c.lower() for c in loan['COUNTRY_NAME']]\n",
    "ppp['Country Name'] = [c.lower() for c in ppp['Country Name']]\n",
    "\n",
    "#returns list of countries that are not matches between the data sets\n",
    "for c in set(loan['COUNTRY_NAME']):\n",
    "    match_tup = (c, difflib.get_close_matches(c, ppp['Country Name'], cutoff=1))\n",
    "    if match_tup[1] == []:\n",
    "        print(match_tup[0])\n",
    "        \n",
    "\n"
   ]
  },
  {
   "cell_type": "code",
   "execution_count": 8,
   "id": "stainless-advocate",
   "metadata": {},
   "outputs": [],
   "source": [
    "#Only 8 out of 82 countries are not matches. Most of the remaining difference are due to political\n",
    "#differences in naming, rather than failure to do a fuzzy match. \n",
    "\n",
    "\n",
    "\n",
    "ppp = ppp.rename(index={'west bank and gaza':'palestine', 'congo, rep':'congo', 'myanmar ':'myanmar (burma)',\n",
    "'yemen, rep.':'yemen', 'lao pdr':'lao people''s democratic republic',\n",
    "'congo, dem. rep.':'the democratic republic of the congo', 'egypt arab rep.': 'egypt'})"
   ]
  },
  {
   "cell_type": "code",
   "execution_count": 9,
   "id": "worse-gauge",
   "metadata": {},
   "outputs": [
    {
     "data": {
      "text/plain": [
       "Index(['aruba', 'afghanistan', 'angola', 'albania', 'andorra', 'arab world',\n",
       "       'united arab emirates', 'argentina', 'armenia', 'american samoa',\n",
       "       ...\n",
       "       'virgin islands (u.s.)', 'vietnam', 'vanuatu', 'world', 'samoa',\n",
       "       'kosovo', 'yemen, rep.', 'south africa', 'zambia', 'zimbabwe'],\n",
       "      dtype='object', name='Country Name', length=264)"
      ]
     },
     "execution_count": 9,
     "metadata": {},
     "output_type": "execute_result"
    }
   ],
   "source": [
    "ppp.set_index('Country Name', inplace=True)\n",
    "ppp.index"
   ]
  },
  {
   "cell_type": "code",
   "execution_count": 10,
   "id": "charming-mixture",
   "metadata": {},
   "outputs": [],
   "source": [
    "#creates list with country name and loan year from loan data   \n",
    "holder = []\n",
    "for c,y in zip(loan['COUNTRY_NAME'], loan['loan_year']):\n",
    "    holder.append([c,y])\n",
    "\n",
    "\n"
   ]
  },
  {
   "cell_type": "code",
   "execution_count": 11,
   "id": "illegal-ordinance",
   "metadata": {},
   "outputs": [],
   "source": [
    "for i in range(len(holder)):\n",
    "    if holder[i][0] not in ppp.index:\n",
    "        holder[i].append(np.nan)\n",
    "    elif np.isnan(ppp.loc[holder[i][0], str(holder[i][1])]):\n",
    "        if (ppp.loc[holder[i][0], str(holder[i][1]-1)]):\n",
    "            holder[i].append(ppp.loc[holder[i][0], str(holder[i][1]-1)])\n",
    "        elif (ppp.loc[holder[i][0], str(holder[i][1]-2)]):\n",
    "            holder[i].append(ppp.loc[holder[i][0], str(holder[i][1]-2)])\n",
    "        else:    \n",
    "            holder[i].append(np.nan)\n",
    "    else:\n",
    "        holder[i].append(ppp.loc[holder[i][0],str(holder[i][1])])\n",
    "        \n",
    "\n"
   ]
  },
  {
   "cell_type": "code",
   "execution_count": 14,
   "id": "detected-reaction",
   "metadata": {},
   "outputs": [],
   "source": [
    "#Creates ppp value in loan datafarme\n",
    "loan['ppp'] = [holder[c][2] for c in range(len(holder))]\n",
    "\n"
   ]
  },
  {
   "cell_type": "code",
   "execution_count": 15,
   "id": "union-spoke",
   "metadata": {},
   "outputs": [],
   "source": [
    "\n",
    "loan['ppp'].dropna(inplace=True)"
   ]
  },
  {
   "cell_type": "code",
   "execution_count": 19,
   "id": "posted-detective",
   "metadata": {},
   "outputs": [
    {
     "name": "stdout",
     "output_type": "stream",
     "text": [
      "<class 'pandas.core.frame.DataFrame'>\n",
      "Int64Index: 9500 entries, 0 to 9999\n",
      "Data columns (total 42 columns):\n",
      " #   Column                           Non-Null Count  Dtype              \n",
      "---  ------                           --------------  -----              \n",
      " 0   Unnamed: 0                       9500 non-null   int64              \n",
      " 1   LOAN_ID                          9500 non-null   int64              \n",
      " 2   LOAN_NAME                        9264 non-null   object             \n",
      " 3   ORIGINAL_LANGUAGE                9284 non-null   object             \n",
      " 4   DESCRIPTION                      9284 non-null   object             \n",
      " 5   DESCRIPTION_TRANSLATED           7124 non-null   object             \n",
      " 6   FUNDED_AMOUNT                    9500 non-null   float64            \n",
      " 7   LOAN_AMOUNT                      9500 non-null   float64            \n",
      " 8   STATUS                           9500 non-null   object             \n",
      " 9   IMAGE_ID                         9284 non-null   float64            \n",
      " 10  VIDEO_ID                         4 non-null      float64            \n",
      " 11  ACTIVITY_NAME                    9500 non-null   object             \n",
      " 12  SECTOR_NAME                      9500 non-null   object             \n",
      " 13  LOAN_USE                         9284 non-null   object             \n",
      " 14  COUNTRY_CODE                     9500 non-null   object             \n",
      " 15  COUNTRY_NAME                     9500 non-null   object             \n",
      " 16  TOWN_NAME                        8746 non-null   object             \n",
      " 17  CURRENCY_POLICY                  9500 non-null   object             \n",
      " 18  CURRENCY_EXCHANGE_COVERAGE_RATE  7645 non-null   float64            \n",
      " 19  CURRENCY                         9500 non-null   object             \n",
      " 20  PARTNER_ID                       9407 non-null   float64            \n",
      " 21  POSTED_TIME                      9500 non-null   object             \n",
      " 22  PLANNED_EXPIRATION_TIME          7865 non-null   object             \n",
      " 23  DISBURSE_TIME                    9500 non-null   object             \n",
      " 24  RAISED_TIME                      9500 non-null   object             \n",
      " 25  LENDER_TERM                      9500 non-null   int64              \n",
      " 26  NUM_LENDERS_TOTAL                9500 non-null   int64              \n",
      " 27  NUM_JOURNAL_ENTRIES              9500 non-null   int64              \n",
      " 28  NUM_BULK_ENTRIES                 9500 non-null   int64              \n",
      " 29  TAGS                             5200 non-null   object             \n",
      " 30  BORROWER_NAMES                   9264 non-null   object             \n",
      " 31  BORROWER_GENDERS                 9284 non-null   object             \n",
      " 32  BORROWER_PICTURED                9284 non-null   object             \n",
      " 33  REPAYMENT_INTERVAL               9500 non-null   object             \n",
      " 34  DISTRIBUTION_MODEL               9500 non-null   object             \n",
      " 35  posted_datetime                  9500 non-null   datetime64[ns, UTC]\n",
      " 36  raised_datetime                  9500 non-null   datetime64[ns, UTC]\n",
      " 37  loan_speed                       9500 non-null   timedelta64[ns]    \n",
      " 38  loanspeed_days                   9500 non-null   float64            \n",
      " 39  loan_year                        9500 non-null   int64              \n",
      " 40  borrower_n                       9500 non-null   int64              \n",
      " 41  ppp                              9036 non-null   float64            \n",
      "dtypes: datetime64[ns, UTC](2), float64(8), int64(8), object(23), timedelta64[ns](1)\n",
      "memory usage: 3.4+ MB\n"
     ]
    }
   ],
   "source": [
    "loan.info()"
   ]
  },
  {
   "cell_type": "code",
   "execution_count": 22,
   "id": "conscious-property",
   "metadata": {},
   "outputs": [],
   "source": [
    "loan['ppp_val'] = loan['ppp'] * loan['LOAN_AMOUNT']"
   ]
  },
  {
   "cell_type": "code",
   "execution_count": 23,
   "id": "spanish-barrel",
   "metadata": {},
   "outputs": [
    {
     "data": {
      "text/plain": [
       "Ttest_indResult(statistic=18.702402824218993, pvalue=1.6755581566396565e-76)"
      ]
     },
     "execution_count": 23,
     "metadata": {},
     "output_type": "execute_result"
    }
   ],
   "source": [
    "\n",
    "#gender\n",
    "loanspeed_m = loan['loanspeed_days'][loan['BORROWER_GENDERS']=='male']\n",
    "loanspeed_f = loan['loanspeed_days'][loan['BORROWER_GENDERS']=='female']\n",
    "\n",
    "mx = np.mean(loanspeed_m)\n",
    "mf = np.mean(loanspeed_f)\n",
    "\n"
   ]
  },
  {
   "cell_type": "code",
   "execution_count": 37,
   "id": "arranged-turtle",
   "metadata": {},
   "outputs": [
    {
     "data": {
      "image/png": "[encoded data removed]",
      "text/plain": [
       "<Figure size 1008x432 with 1 Axes>"
      ]
     },
     "metadata": {
      "needs_background": "light"
     },
     "output_type": "display_data"
    }
   ],
   "source": [
    "#We can see by plotting the histograms for how long men and women take to raise loans that\n",
    "#a) the data does not appear to be normally distributed and \n",
    "#b) there are many more datapoints for women than for men \n",
    "\n",
    "fig, ax = plt.subplots(figsize=(14,6))\n",
    "ax.hist(loanspeed_m, bins=30, alpha=.5, label='Days to raise loan, male')\n",
    "ax.hist(loanspeed_f, bins=30, alpha=.5, label='Days to raise loan, female')\n",
    "ax.legend(loc='upper right')\n",
    "ax.set_xlabel('Days to Raise Loan')\n",
    "ax.set_ylabel('Number of Loans')\n",
    "ax.set_title('Histogram for Number of Days to Raise Loan, for male and female samples')\n",
    "\n",
    "plt.savefig('../images/gender_histogram.png')\n"
   ]
  },
  {
   "cell_type": "code",
   "execution_count": 33,
   "id": "interesting-willow",
   "metadata": {},
   "outputs": [
    {
     "data": {
      "text/plain": [
       "MannwhitneyuResult(statistic=3683198.5, pvalue=4.326373415336906e-66)"
      ]
     },
     "execution_count": 33,
     "metadata": {},
     "output_type": "execute_result"
    }
   ],
   "source": [
    "stats.mannwhitneyu(loanspeed_m, loanspeed_f)"
   ]
  },
  {
   "cell_type": "code",
   "execution_count": 151,
   "id": "military-prefix",
   "metadata": {},
   "outputs": [
    {
     "name": "stdout",
     "output_type": "stream",
     "text": [
      "0       False\n",
      "1       False\n",
      "2       False\n",
      "3       False\n",
      "4       False\n",
      "        ...  \n",
      "9995    False\n",
      "9996    False\n",
      "9997    False\n",
      "9998    False\n",
      "9999    False\n",
      "Name: COUNTRY_NAME, Length: 9500, dtype: bool\n",
      "2.772965745911904e-10\n",
      "0       False\n",
      "1       False\n",
      "2       False\n",
      "3       False\n",
      "4       False\n",
      "        ...  \n",
      "9995    False\n",
      "9996    False\n",
      "9997    False\n",
      "9998    False\n",
      "9999    False\n",
      "Name: COUNTRY_NAME, Length: 9500, dtype: bool\n",
      "6.63980182684723e-14\n",
      "0        True\n",
      "1       False\n",
      "2       False\n",
      "3       False\n",
      "4       False\n",
      "        ...  \n",
      "9995    False\n",
      "9996    False\n",
      "9997    False\n",
      "9998    False\n",
      "9999    False\n",
      "Name: COUNTRY_NAME, Length: 9500, dtype: bool\n",
      "7.441859628531944e-12\n",
      "0       False\n",
      "1       False\n",
      "2       False\n",
      "3       False\n",
      "4       False\n",
      "        ...  \n",
      "9995    False\n",
      "9996    False\n",
      "9997    False\n",
      "9998    False\n",
      "9999    False\n",
      "Name: COUNTRY_NAME, Length: 9500, dtype: bool\n",
      "0.07887250185012817\n",
      "0       False\n",
      "1       False\n",
      "2       False\n",
      "3       False\n",
      "4       False\n",
      "        ...  \n",
      "9995    False\n",
      "9996    False\n",
      "9997    False\n",
      "9998    False\n",
      "9999    False\n",
      "Name: COUNTRY_NAME, Length: 9500, dtype: bool\n",
      "0.04599245265126228\n",
      "0       False\n",
      "1       False\n",
      "2       False\n",
      "3       False\n",
      "4       False\n",
      "        ...  \n",
      "9995    False\n",
      "9996    False\n",
      "9997    False\n",
      "9998    False\n",
      "9999    False\n",
      "Name: COUNTRY_NAME, Length: 9500, dtype: bool\n"
     ]
    },
    {
     "ename": "ValueError",
     "evalue": "Data must be at least length 3.",
     "output_type": "error",
     "traceback": [
      "\u001b[0;31m---------------------------------------------------------------------------\u001b[0m",
      "\u001b[0;31mValueError\u001b[0m                                Traceback (most recent call last)",
      "\u001b[0;32m<ipython-input-151-3b8465c18067>\u001b[0m in \u001b[0;36m<module>\u001b[0;34m\u001b[0m\n\u001b[1;32m      1\u001b[0m \u001b[0;32mfor\u001b[0m \u001b[0mx\u001b[0m \u001b[0;32min\u001b[0m \u001b[0mset\u001b[0m\u001b[0;34m(\u001b[0m\u001b[0mloan\u001b[0m\u001b[0;34m[\u001b[0m\u001b[0;34m'COUNTRY_NAME'\u001b[0m\u001b[0;34m]\u001b[0m\u001b[0;34m)\u001b[0m\u001b[0;34m:\u001b[0m\u001b[0;34m\u001b[0m\u001b[0;34m\u001b[0m\u001b[0m\n\u001b[1;32m      2\u001b[0m     \u001b[0mprint\u001b[0m\u001b[0;34m(\u001b[0m\u001b[0mloan\u001b[0m\u001b[0;34m[\u001b[0m\u001b[0;34m'COUNTRY_NAME'\u001b[0m\u001b[0;34m]\u001b[0m\u001b[0;34m==\u001b[0m\u001b[0mx\u001b[0m\u001b[0;34m)\u001b[0m\u001b[0;34m\u001b[0m\u001b[0;34m\u001b[0m\u001b[0m\n\u001b[0;32m----> 3\u001b[0;31m     \u001b[0mprint\u001b[0m \u001b[0;34m(\u001b[0m\u001b[0mstats\u001b[0m\u001b[0;34m.\u001b[0m\u001b[0mshapiro\u001b[0m\u001b[0;34m(\u001b[0m\u001b[0mloan\u001b[0m\u001b[0;34m[\u001b[0m\u001b[0;34m'loanspeed_days'\u001b[0m\u001b[0;34m]\u001b[0m\u001b[0;34m[\u001b[0m\u001b[0mloan\u001b[0m\u001b[0;34m[\u001b[0m\u001b[0;34m'COUNTRY_NAME'\u001b[0m\u001b[0;34m]\u001b[0m\u001b[0;34m==\u001b[0m\u001b[0mx\u001b[0m\u001b[0;34m]\u001b[0m\u001b[0;34m)\u001b[0m\u001b[0;34m[\u001b[0m\u001b[0;36m1\u001b[0m\u001b[0;34m]\u001b[0m\u001b[0;34m)\u001b[0m\u001b[0;34m\u001b[0m\u001b[0;34m\u001b[0m\u001b[0m\n\u001b[0m\u001b[1;32m      4\u001b[0m  \u001b[0;31m#   if stats.shapiro(loan['loanspeed_days'][loan['COUNTRY_NAME']==x])[1] < .05:\u001b[0m\u001b[0;34m\u001b[0m\u001b[0;34m\u001b[0m\u001b[0;34m\u001b[0m\u001b[0m\n\u001b[1;32m      5\u001b[0m  \u001b[0;31m#       print(\"Loans in {country}, are not normally distributed \".format(country=x))\u001b[0m\u001b[0;34m\u001b[0m\u001b[0;34m\u001b[0m\u001b[0;34m\u001b[0m\u001b[0m\n",
      "\u001b[0;32m/Library/Frameworks/Python.framework/Versions/3.9/lib/python3.9/site-packages/scipy/stats/morestats.py\u001b[0m in \u001b[0;36mshapiro\u001b[0;34m(x)\u001b[0m\n\u001b[1;32m   1668\u001b[0m     \u001b[0mN\u001b[0m \u001b[0;34m=\u001b[0m \u001b[0mlen\u001b[0m\u001b[0;34m(\u001b[0m\u001b[0mx\u001b[0m\u001b[0;34m)\u001b[0m\u001b[0;34m\u001b[0m\u001b[0;34m\u001b[0m\u001b[0m\n\u001b[1;32m   1669\u001b[0m     \u001b[0;32mif\u001b[0m \u001b[0mN\u001b[0m \u001b[0;34m<\u001b[0m \u001b[0;36m3\u001b[0m\u001b[0;34m:\u001b[0m\u001b[0;34m\u001b[0m\u001b[0;34m\u001b[0m\u001b[0m\n\u001b[0;32m-> 1670\u001b[0;31m         \u001b[0;32mraise\u001b[0m \u001b[0mValueError\u001b[0m\u001b[0;34m(\u001b[0m\u001b[0;34m\"Data must be at least length 3.\"\u001b[0m\u001b[0;34m)\u001b[0m\u001b[0;34m\u001b[0m\u001b[0;34m\u001b[0m\u001b[0m\n\u001b[0m\u001b[1;32m   1671\u001b[0m \u001b[0;34m\u001b[0m\u001b[0m\n\u001b[1;32m   1672\u001b[0m     \u001b[0ma\u001b[0m \u001b[0;34m=\u001b[0m \u001b[0mzeros\u001b[0m\u001b[0;34m(\u001b[0m\u001b[0mN\u001b[0m\u001b[0;34m,\u001b[0m \u001b[0;34m'f'\u001b[0m\u001b[0;34m)\u001b[0m\u001b[0;34m\u001b[0m\u001b[0;34m\u001b[0m\u001b[0m\n",
      "\u001b[0;31mValueError\u001b[0m: Data must be at least length 3."
     ]
    }
   ],
   "source": [
    "\n",
    "\n",
    "for x in set(loan['COUNTRY_NAME']):\n",
    "    print (stats.shapiro(loan['loanspeed_days'][loan['COUNTRY_NAME']==x])[1])\n",
    " #   if stats.shapiro(loan['loanspeed_days'][loan['COUNTRY_NAME']==x])[1] < .05:\n",
    " #       print(\"Loans in {country}, are not normally distributed \".format(country=x))\n",
    " #   else:\n",
    " #       None"
   ]
  },
  {
   "cell_type": "code",
   "execution_count": 148,
   "id": "warming-exhaust",
   "metadata": {},
   "outputs": [
    {
     "data": {
      "text/html": [
       "<div>\n",
       "<style scoped>\n",
       "    .dataframe tbody tr th:only-of-type {\n",
       "        vertical-align: middle;\n",
       "    }\n",
       "\n",
       "    .dataframe tbody tr th {\n",
       "        vertical-align: top;\n",
       "    }\n",
       "\n",
       "    .dataframe thead th {\n",
       "        text-align: right;\n",
       "    }\n",
       "</style>\n",
       "<table border=\"1\" class=\"dataframe\">\n",
       "  <thead>\n",
       "    <tr style=\"text-align: right;\">\n",
       "      <th></th>\n",
       "      <th>Unnamed: 0</th>\n",
       "      <th>LOAN_ID</th>\n",
       "      <th>LOAN_NAME</th>\n",
       "      <th>ORIGINAL_LANGUAGE</th>\n",
       "      <th>DESCRIPTION</th>\n",
       "      <th>DESCRIPTION_TRANSLATED</th>\n",
       "      <th>FUNDED_AMOUNT</th>\n",
       "      <th>LOAN_AMOUNT</th>\n",
       "      <th>STATUS</th>\n",
       "      <th>IMAGE_ID</th>\n",
       "      <th>...</th>\n",
       "      <th>REPAYMENT_INTERVAL</th>\n",
       "      <th>DISTRIBUTION_MODEL</th>\n",
       "      <th>posted_datetime</th>\n",
       "      <th>raised_datetime</th>\n",
       "      <th>loan_speed</th>\n",
       "      <th>loanspeed_days</th>\n",
       "      <th>loan_year</th>\n",
       "      <th>borrower_n</th>\n",
       "      <th>ppp</th>\n",
       "      <th>ppp_val</th>\n",
       "    </tr>\n",
       "  </thead>\n",
       "  <tbody>\n",
       "    <tr>\n",
       "      <th>0</th>\n",
       "      <td>0</td>\n",
       "      <td>822769</td>\n",
       "      <td>Ana Olaya</td>\n",
       "      <td>Spanish</td>\n",
       "      <td>En el cantón 24 De Mayo de la  provincia de Ma...</td>\n",
       "      <td>In the 24 De Mayo canton, Manabí province, kno...</td>\n",
       "      <td>825.0</td>\n",
       "      <td>825.0</td>\n",
       "      <td>funded</td>\n",
       "      <td>1772632.0</td>\n",
       "      <td>...</td>\n",
       "      <td>monthly</td>\n",
       "      <td>field_partner</td>\n",
       "      <td>2014-12-30 23:15:46+00:00</td>\n",
       "      <td>2015-01-26 21:41:32+00:00</td>\n",
       "      <td>26 days 22:25:46</td>\n",
       "      <td>26.934560</td>\n",
       "      <td>2015</td>\n",
       "      <td>1</td>\n",
       "      <td>0.580266</td>\n",
       "      <td>478.719498</td>\n",
       "    </tr>\n",
       "    <tr>\n",
       "      <th>1</th>\n",
       "      <td>1</td>\n",
       "      <td>758447</td>\n",
       "      <td>JOVELINE\\t</td>\n",
       "      <td>English</td>\n",
       "      <td>Joveline is married and has two children. She ...</td>\n",
       "      <td>Joveline is married and has two children. She ...</td>\n",
       "      <td>525.0</td>\n",
       "      <td>525.0</td>\n",
       "      <td>funded</td>\n",
       "      <td>1677756.0</td>\n",
       "      <td>...</td>\n",
       "      <td>monthly</td>\n",
       "      <td>field_partner</td>\n",
       "      <td>2014-08-22 05:03:19+00:00</td>\n",
       "      <td>2014-09-02 15:48:57+00:00</td>\n",
       "      <td>11 days 10:45:38</td>\n",
       "      <td>11.448356</td>\n",
       "      <td>2014</td>\n",
       "      <td>1</td>\n",
       "      <td>19.067863</td>\n",
       "      <td>10010.628319</td>\n",
       "    </tr>\n",
       "    <tr>\n",
       "      <th>2</th>\n",
       "      <td>2</td>\n",
       "      <td>443481</td>\n",
       "      <td>JUAN ANGEL</td>\n",
       "      <td>Spanish</td>\n",
       "      <td>Juan es un hombre de 54 años, es felizmente ca...</td>\n",
       "      <td>Juan, 54, is happily married.  He lives with h...</td>\n",
       "      <td>400.0</td>\n",
       "      <td>400.0</td>\n",
       "      <td>funded</td>\n",
       "      <td>1127992.0</td>\n",
       "      <td>...</td>\n",
       "      <td>monthly</td>\n",
       "      <td>field_partner</td>\n",
       "      <td>2012-06-26 22:25:17+00:00</td>\n",
       "      <td>2012-07-26 03:01:16+00:00</td>\n",
       "      <td>29 days 04:35:59</td>\n",
       "      <td>29.191655</td>\n",
       "      <td>2012</td>\n",
       "      <td>1</td>\n",
       "      <td>1.572296</td>\n",
       "      <td>628.918314</td>\n",
       "    </tr>\n",
       "    <tr>\n",
       "      <th>3</th>\n",
       "      <td>3</td>\n",
       "      <td>943914</td>\n",
       "      <td>Delilah</td>\n",
       "      <td>English</td>\n",
       "      <td>Delilah is 45 years old and married with four ...</td>\n",
       "      <td>Delilah is 45 years old and married with four ...</td>\n",
       "      <td>225.0</td>\n",
       "      <td>225.0</td>\n",
       "      <td>funded</td>\n",
       "      <td>1972607.0</td>\n",
       "      <td>...</td>\n",
       "      <td>monthly</td>\n",
       "      <td>field_partner</td>\n",
       "      <td>2015-09-06 00:53:47+00:00</td>\n",
       "      <td>2015-09-14 13:35:36+00:00</td>\n",
       "      <td>8 days 12:41:49</td>\n",
       "      <td>8.529039</td>\n",
       "      <td>2015</td>\n",
       "      <td>1</td>\n",
       "      <td>19.038708</td>\n",
       "      <td>4283.709240</td>\n",
       "    </tr>\n",
       "    <tr>\n",
       "      <th>4</th>\n",
       "      <td>4</td>\n",
       "      <td>149321</td>\n",
       "      <td>Hurmatoy</td>\n",
       "      <td>English</td>\n",
       "      <td>K. Hurmatoy is a happy mother of three childre...</td>\n",
       "      <td>NaN</td>\n",
       "      <td>1575.0</td>\n",
       "      <td>1575.0</td>\n",
       "      <td>funded</td>\n",
       "      <td>418838.0</td>\n",
       "      <td>...</td>\n",
       "      <td>monthly</td>\n",
       "      <td>field_partner</td>\n",
       "      <td>2009-11-02 11:37:40+00:00</td>\n",
       "      <td>2009-11-02 21:24:33+00:00</td>\n",
       "      <td>0 days 09:46:53</td>\n",
       "      <td>0.407558</td>\n",
       "      <td>2009</td>\n",
       "      <td>1</td>\n",
       "      <td>NaN</td>\n",
       "      <td>NaN</td>\n",
       "    </tr>\n",
       "    <tr>\n",
       "      <th>...</th>\n",
       "      <td>...</td>\n",
       "      <td>...</td>\n",
       "      <td>...</td>\n",
       "      <td>...</td>\n",
       "      <td>...</td>\n",
       "      <td>...</td>\n",
       "      <td>...</td>\n",
       "      <td>...</td>\n",
       "      <td>...</td>\n",
       "      <td>...</td>\n",
       "      <td>...</td>\n",
       "      <td>...</td>\n",
       "      <td>...</td>\n",
       "      <td>...</td>\n",
       "      <td>...</td>\n",
       "      <td>...</td>\n",
       "      <td>...</td>\n",
       "      <td>...</td>\n",
       "      <td>...</td>\n",
       "      <td>...</td>\n",
       "      <td>...</td>\n",
       "    </tr>\n",
       "    <tr>\n",
       "      <th>9995</th>\n",
       "      <td>9995</td>\n",
       "      <td>537242</td>\n",
       "      <td>Ana</td>\n",
       "      <td>English</td>\n",
       "      <td>Ana is 21 years old and married with one child...</td>\n",
       "      <td>NaN</td>\n",
       "      <td>450.0</td>\n",
       "      <td>450.0</td>\n",
       "      <td>funded</td>\n",
       "      <td>1311558.0</td>\n",
       "      <td>...</td>\n",
       "      <td>monthly</td>\n",
       "      <td>field_partner</td>\n",
       "      <td>2013-03-13 07:39:30+00:00</td>\n",
       "      <td>2013-03-15 23:01:18+00:00</td>\n",
       "      <td>2 days 15:21:48</td>\n",
       "      <td>2.640139</td>\n",
       "      <td>2013</td>\n",
       "      <td>1</td>\n",
       "      <td>1.883895</td>\n",
       "      <td>847.752582</td>\n",
       "    </tr>\n",
       "    <tr>\n",
       "      <th>9996</th>\n",
       "      <td>9996</td>\n",
       "      <td>1197482</td>\n",
       "      <td>Liliane</td>\n",
       "      <td>French</td>\n",
       "      <td>Liliane continue a progressé dans son commerce...</td>\n",
       "      <td>Liliane continues to progress in her commerce....</td>\n",
       "      <td>250.0</td>\n",
       "      <td>250.0</td>\n",
       "      <td>funded</td>\n",
       "      <td>2379501.0</td>\n",
       "      <td>...</td>\n",
       "      <td>monthly</td>\n",
       "      <td>field_partner</td>\n",
       "      <td>2016-12-02 05:37:09+00:00</td>\n",
       "      <td>2016-12-04 23:48:22+00:00</td>\n",
       "      <td>2 days 18:11:13</td>\n",
       "      <td>2.757789</td>\n",
       "      <td>2016</td>\n",
       "      <td>1</td>\n",
       "      <td>27.211857</td>\n",
       "      <td>6802.964211</td>\n",
       "    </tr>\n",
       "    <tr>\n",
       "      <th>9997</th>\n",
       "      <td>9997</td>\n",
       "      <td>1032489</td>\n",
       "      <td>Ana Liza</td>\n",
       "      <td>English</td>\n",
       "      <td>Ana Liza is a hardworking woman entrepreneur.&lt;...</td>\n",
       "      <td>Ana Liza is a hardworking woman entrepreneur.&lt;...</td>\n",
       "      <td>225.0</td>\n",
       "      <td>225.0</td>\n",
       "      <td>funded</td>\n",
       "      <td>2116650.0</td>\n",
       "      <td>...</td>\n",
       "      <td>monthly</td>\n",
       "      <td>field_partner</td>\n",
       "      <td>2016-03-03 02:44:46+00:00</td>\n",
       "      <td>2016-03-06 18:13:36+00:00</td>\n",
       "      <td>3 days 15:28:50</td>\n",
       "      <td>3.645023</td>\n",
       "      <td>2016</td>\n",
       "      <td>1</td>\n",
       "      <td>18.925903</td>\n",
       "      <td>4258.328247</td>\n",
       "    </tr>\n",
       "    <tr>\n",
       "      <th>9998</th>\n",
       "      <td>9998</td>\n",
       "      <td>1488538</td>\n",
       "      <td>José Romel</td>\n",
       "      <td>Spanish</td>\n",
       "      <td>José, tiene 40 años de edad, estudió hasta sép...</td>\n",
       "      <td>José is 40 years old. He went to school up to ...</td>\n",
       "      <td>600.0</td>\n",
       "      <td>600.0</td>\n",
       "      <td>funded</td>\n",
       "      <td>2796905.0</td>\n",
       "      <td>...</td>\n",
       "      <td>monthly</td>\n",
       "      <td>field_partner</td>\n",
       "      <td>2018-03-14 15:45:10+00:00</td>\n",
       "      <td>2018-04-04 07:21:50+00:00</td>\n",
       "      <td>20 days 15:36:40</td>\n",
       "      <td>20.650463</td>\n",
       "      <td>2018</td>\n",
       "      <td>1</td>\n",
       "      <td>0.508201</td>\n",
       "      <td>304.920734</td>\n",
       "    </tr>\n",
       "    <tr>\n",
       "      <th>9999</th>\n",
       "      <td>9999</td>\n",
       "      <td>414473</td>\n",
       "      <td>RAUL</td>\n",
       "      <td>Spanish</td>\n",
       "      <td>Raúl es un hombre de 31 años de edad, vive con...</td>\n",
       "      <td>Raúl is a 31 year old man who lives with his p...</td>\n",
       "      <td>575.0</td>\n",
       "      <td>575.0</td>\n",
       "      <td>funded</td>\n",
       "      <td>1069629.0</td>\n",
       "      <td>...</td>\n",
       "      <td>monthly</td>\n",
       "      <td>field_partner</td>\n",
       "      <td>2012-04-12 17:39:03+00:00</td>\n",
       "      <td>2012-05-22 10:05:41+00:00</td>\n",
       "      <td>39 days 16:26:38</td>\n",
       "      <td>39.685162</td>\n",
       "      <td>2012</td>\n",
       "      <td>1</td>\n",
       "      <td>1.572296</td>\n",
       "      <td>904.070076</td>\n",
       "    </tr>\n",
       "  </tbody>\n",
       "</table>\n",
       "<p>9500 rows × 43 columns</p>\n",
       "</div>"
      ],
      "text/plain": [
       "      Unnamed: 0  LOAN_ID   LOAN_NAME ORIGINAL_LANGUAGE  \\\n",
       "0              0   822769   Ana Olaya           Spanish   \n",
       "1              1   758447  JOVELINE\\t           English   \n",
       "2              2   443481  JUAN ANGEL           Spanish   \n",
       "3              3   943914     Delilah           English   \n",
       "4              4   149321    Hurmatoy           English   \n",
       "...          ...      ...         ...               ...   \n",
       "9995        9995   537242         Ana           English   \n",
       "9996        9996  1197482     Liliane            French   \n",
       "9997        9997  1032489    Ana Liza           English   \n",
       "9998        9998  1488538  José Romel           Spanish   \n",
       "9999        9999   414473        RAUL           Spanish   \n",
       "\n",
       "                                            DESCRIPTION  \\\n",
       "0     En el cantón 24 De Mayo de la  provincia de Ma...   \n",
       "1     Joveline is married and has two children. She ...   \n",
       "2     Juan es un hombre de 54 años, es felizmente ca...   \n",
       "3     Delilah is 45 years old and married with four ...   \n",
       "4     K. Hurmatoy is a happy mother of three childre...   \n",
       "...                                                 ...   \n",
       "9995  Ana is 21 years old and married with one child...   \n",
       "9996  Liliane continue a progressé dans son commerce...   \n",
       "9997  Ana Liza is a hardworking woman entrepreneur.<...   \n",
       "9998  José, tiene 40 años de edad, estudió hasta sép...   \n",
       "9999  Raúl es un hombre de 31 años de edad, vive con...   \n",
       "\n",
       "                                 DESCRIPTION_TRANSLATED  FUNDED_AMOUNT  \\\n",
       "0     In the 24 De Mayo canton, Manabí province, kno...          825.0   \n",
       "1     Joveline is married and has two children. She ...          525.0   \n",
       "2     Juan, 54, is happily married.  He lives with h...          400.0   \n",
       "3     Delilah is 45 years old and married with four ...          225.0   \n",
       "4                                                   NaN         1575.0   \n",
       "...                                                 ...            ...   \n",
       "9995                                                NaN          450.0   \n",
       "9996  Liliane continues to progress in her commerce....          250.0   \n",
       "9997  Ana Liza is a hardworking woman entrepreneur.<...          225.0   \n",
       "9998  José is 40 years old. He went to school up to ...          600.0   \n",
       "9999  Raúl is a 31 year old man who lives with his p...          575.0   \n",
       "\n",
       "      LOAN_AMOUNT  STATUS   IMAGE_ID  ...  REPAYMENT_INTERVAL  \\\n",
       "0           825.0  funded  1772632.0  ...             monthly   \n",
       "1           525.0  funded  1677756.0  ...             monthly   \n",
       "2           400.0  funded  1127992.0  ...             monthly   \n",
       "3           225.0  funded  1972607.0  ...             monthly   \n",
       "4          1575.0  funded   418838.0  ...             monthly   \n",
       "...           ...     ...        ...  ...                 ...   \n",
       "9995        450.0  funded  1311558.0  ...             monthly   \n",
       "9996        250.0  funded  2379501.0  ...             monthly   \n",
       "9997        225.0  funded  2116650.0  ...             monthly   \n",
       "9998        600.0  funded  2796905.0  ...             monthly   \n",
       "9999        575.0  funded  1069629.0  ...             monthly   \n",
       "\n",
       "     DISTRIBUTION_MODEL           posted_datetime           raised_datetime  \\\n",
       "0         field_partner 2014-12-30 23:15:46+00:00 2015-01-26 21:41:32+00:00   \n",
       "1         field_partner 2014-08-22 05:03:19+00:00 2014-09-02 15:48:57+00:00   \n",
       "2         field_partner 2012-06-26 22:25:17+00:00 2012-07-26 03:01:16+00:00   \n",
       "3         field_partner 2015-09-06 00:53:47+00:00 2015-09-14 13:35:36+00:00   \n",
       "4         field_partner 2009-11-02 11:37:40+00:00 2009-11-02 21:24:33+00:00   \n",
       "...                 ...                       ...                       ...   \n",
       "9995      field_partner 2013-03-13 07:39:30+00:00 2013-03-15 23:01:18+00:00   \n",
       "9996      field_partner 2016-12-02 05:37:09+00:00 2016-12-04 23:48:22+00:00   \n",
       "9997      field_partner 2016-03-03 02:44:46+00:00 2016-03-06 18:13:36+00:00   \n",
       "9998      field_partner 2018-03-14 15:45:10+00:00 2018-04-04 07:21:50+00:00   \n",
       "9999      field_partner 2012-04-12 17:39:03+00:00 2012-05-22 10:05:41+00:00   \n",
       "\n",
       "           loan_speed loanspeed_days loan_year borrower_n        ppp  \\\n",
       "0    26 days 22:25:46      26.934560      2015          1   0.580266   \n",
       "1    11 days 10:45:38      11.448356      2014          1  19.067863   \n",
       "2    29 days 04:35:59      29.191655      2012          1   1.572296   \n",
       "3     8 days 12:41:49       8.529039      2015          1  19.038708   \n",
       "4     0 days 09:46:53       0.407558      2009          1        NaN   \n",
       "...               ...            ...       ...        ...        ...   \n",
       "9995  2 days 15:21:48       2.640139      2013          1   1.883895   \n",
       "9996  2 days 18:11:13       2.757789      2016          1  27.211857   \n",
       "9997  3 days 15:28:50       3.645023      2016          1  18.925903   \n",
       "9998 20 days 15:36:40      20.650463      2018          1   0.508201   \n",
       "9999 39 days 16:26:38      39.685162      2012          1   1.572296   \n",
       "\n",
       "           ppp_val  \n",
       "0       478.719498  \n",
       "1     10010.628319  \n",
       "2       628.918314  \n",
       "3      4283.709240  \n",
       "4              NaN  \n",
       "...            ...  \n",
       "9995    847.752582  \n",
       "9996   6802.964211  \n",
       "9997   4258.328247  \n",
       "9998    304.920734  \n",
       "9999    904.070076  \n",
       "\n",
       "[9500 rows x 43 columns]"
      ]
     },
     "execution_count": 148,
     "metadata": {},
     "output_type": "execute_result"
    }
   ],
   "source": []
  },
  {
   "cell_type": "code",
   "execution_count": 39,
   "id": "closed-rotation",
   "metadata": {},
   "outputs": [
    {
     "name": "stdout",
     "output_type": "stream",
     "text": [
      "Loans in Personal Use, average of 10.567768762183235 days to raise loan\n",
      "Loans in Services, average of 13.777512604407077 days to raise loan\n",
      "Loans in Housing, average of 14.189757223140278 days to raise loan\n",
      "Loans in Clothing, average of 13.75671079870521 days to raise loan\n",
      "Loans in Transportation, average of 16.252846261718148 days to raise loan\n",
      "Loans in Education, average of 8.301409668854733 days to raise loan\n",
      "Loans in Arts, average of 7.14702438351564 days to raise loan\n",
      "Loans in Manufacturing, average of 7.8648133558979145 days to raise loan\n"
     ]
    }
   ],
   "source": [
    "#sector analysis\n",
    "for x in set(loan['SECTOR_NAME']):\n",
    "    if stats.ttest_ind(loan['loanspeed_days'][loan['SECTOR_NAME']==x], loan['loanspeed_days']\n",
    "                       [loan['loanspeed_days']!=x],\n",
    "                       alternative='two-sided')[1] < .05:\n",
    "        \n",
    "        print(\"Loans in {sector}, average of {mean} days to raise loan\".format(sector=x,\n",
    "                                                            mean=np.mean(loan['loanspeed_days']\n",
    "                                                                         [loan['SECTOR_NAME']==x])))\n",
    "    else:\n",
    "        None\n"
   ]
  },
  {
   "cell_type": "code",
   "execution_count": 40,
   "id": "black-search",
   "metadata": {},
   "outputs": [
    {
     "data": {
      "image/png": "[encoded data removed]",
      "text/plain": [
       "<Figure size 432x288 with 1 Axes>"
      ]
     },
     "metadata": {
      "needs_background": "light"
     },
     "output_type": "display_data"
    }
   ],
   "source": [
    "#loan_amount vs. loanspeed\n",
    "fig, ax = plt.subplots()\n",
    "ax.scatter(loan['loanspeed_days'],loan['ppp_val'], alpha=.5)\n",
    "plt.show()\n"
   ]
  },
  {
   "cell_type": "code",
   "execution_count": 44,
   "id": "foreign-adrian",
   "metadata": {},
   "outputs": [],
   "source": [
    "loan['ppp_val'].to_csv('ppp_val')"
   ]
  },
  {
   "cell_type": "code",
   "execution_count": 63,
   "id": "broken-settle",
   "metadata": {},
   "outputs": [
    {
     "data": {
      "text/plain": [
       "count    9036.000000\n",
       "mean      463.346667\n",
       "std      1235.094715\n",
       "min         0.250961\n",
       "25%         9.459933\n",
       "50%        19.916697\n",
       "75%       216.711076\n",
       "max      8013.255859\n",
       "Name: ppp, dtype: float64"
      ]
     },
     "execution_count": 63,
     "metadata": {},
     "output_type": "execute_result"
    }
   ],
   "source": [
    "loan['ppp'].describe()"
   ]
  },
  {
   "cell_type": "code",
   "execution_count": 42,
   "id": "agreed-nightmare",
   "metadata": {},
   "outputs": [
    {
     "data": {
      "text/plain": [
       "Text(0.5, 1.0, 'Scatterplot of Average # of Days to Raise Loan by Loan Size, Sized by Number of Loans')"
      ]
     },
     "execution_count": 42,
     "metadata": {},
     "output_type": "execute_result"
    },
    {
     "data": {
      "image/png": "[encoded data removed]",
      "text/plain": [
       "<Figure size 936x504 with 1 Axes>"
      ]
     },
     "metadata": {
      "needs_background": "light"
     },
     "output_type": "display_data"
    }
   ],
   "source": [
    "#Mean fulfillment speed of loan amounts, sized by n of loan amounts\n",
    "loan_mean = loan.groupby(['ppp_val'])['loanspeed_days'].mean()\n",
    "loan_count = loan.groupby(['ppp_val'])['ppp_val'].count()\n",
    "\n",
    "#loan_count\n",
    "\n",
    "#grouped.index\n",
    "fig, ax = plt.subplots(figsize=(13,7))\n",
    "ax.scatter(loan_mean.index, loan_mean, s=loan_count, alpha=.5)\n",
    "ax.set_xlabel('Loan Value, adjusted for PPP')\n",
    "ax.set_ylabel('Average # of Days to Raise Loan')\n",
    "ax.set_title('Scatterplot of Average # of Days to Raise Loan by Loan Size, Sized by Number of Loans')\n"
   ]
  },
  {
   "cell_type": "code",
   "execution_count": 122,
   "id": "american-paragraph",
   "metadata": {},
   "outputs": [
    {
     "data": {
      "image/png": "[encoded data removed]",
      "text/plain": [
       "<Figure size 864x576 with 2 Axes>"
      ]
     },
     "metadata": {
      "needs_background": "light"
     },
     "output_type": "display_data"
    },
    {
     "data": {
      "text/plain": [
       "<Figure size 432x288 with 0 Axes>"
      ]
     },
     "metadata": {},
     "output_type": "display_data"
    }
   ],
   "source": [
    "fig, ax = plt.subplots(2,figsize=(12,8))\n",
    "ax[0].hist(loan['loanspeed_days'], bins=200, label='histogram',)\n",
    "ax[0].set_title('Histogram of Amount of Time to Raise Loan (Days)')\n",
    "ax[0].set_xlabel('Days To Raise Loan')\n",
    "ax[0].set_ylabel('Frequency')\n",
    "ax[1].boxplot(loan['loanspeed_days'], vert=False)\n",
    "ax[1].set_title('Box Plot for Amount of Time to Raise Loan')\n",
    "ax[1].set_xlabel('Days to Raise Loan')\n",
    "plt.tight_layout()\n",
    "plt.show()\n",
    "plt.savefig('../images/histobox.png')\n",
    "\n",
    "\n",
    "\n",
    "\n",
    "\n"
   ]
  },
  {
   "cell_type": "code",
   "execution_count": 124,
   "id": "conventional-booking",
   "metadata": {},
   "outputs": [
    {
     "name": "stderr",
     "output_type": "stream",
     "text": [
      "/Library/Frameworks/Python.framework/Versions/3.9/lib/python3.9/site-packages/scipy/stats/morestats.py:1681: UserWarning: p-value may not be accurate for N > 5000.\n",
      "  warnings.warn(\"p-value may not be accurate for N > 5000.\")\n"
     ]
    },
    {
     "data": {
      "text/plain": [
       "ShapiroResult(statistic=0.8043903112411499, pvalue=0.0)"
      ]
     },
     "execution_count": 124,
     "metadata": {},
     "output_type": "execute_result"
    }
   ],
   "source": [
    "stats.shapiro(loan['loanspeed_days'])"
   ]
  },
  {
   "cell_type": "code",
   "execution_count": null,
   "id": "unnecessary-highland",
   "metadata": {},
   "outputs": [],
   "source": []
  }
 ],
 "metadata": {
  "kernelspec": {
   "display_name": "Python 3",
   "language": "python",
   "name": "python3"
  },
  "language_info": {
   "codemirror_mode": {
    "name": "ipython",
    "version": 3
   },
   "file_extension": ".py",
   "mimetype": "text/x-python",
   "name": "python",
   "nbconvert_exporter": "python",
   "pygments_lexer": "ipython3",
   "version": "3.9.1"
  }
 },
 "nbformat": 4,
 "nbformat_minor": 5
}
