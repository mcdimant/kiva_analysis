{
 "cells": [
  {
   "cell_type": "code",
   "execution_count": 1,
   "id": "incomplete-slovak",
   "metadata": {},
   "outputs": [],
   "source": [
    "import pandas as pd\n",
    "import numpy as np\n",
    "import datetime\n",
    "import boto3\n",
    "from matplotlib import pyplot as plt\n",
    "from matplotlib.dates import DateFormatter, date2num\n",
    "import seaborn as sns\n",
    "import scipy.stats as stats"
   ]
  },
  {
   "cell_type": "code",
   "execution_count": 2,
   "id": "identical-delaware",
   "metadata": {},
   "outputs": [],
   "source": [
    "#reads in 10k row sample of Kiva's loan data\n",
    "loan = pd.read_csv('../data/sample_data.csv')"
   ]
  },
  {
   "cell_type": "code",
   "execution_count": 3,
   "id": "recent-sheep",
   "metadata": {},
   "outputs": [],
   "source": [
    "#converting string representations of time to Datetime objects\n",
    "loan['posted_datetime'] = pd.to_datetime(loan['POSTED_TIME'])\n",
    "loan['raised_datetime'] = pd.to_datetime(loan['RAISED_TIME'])\n",
    "\n",
    "#creates loan_speed column as difference between raised and posted datetimes\n",
    "loan['loan_speed'] = loan['raised_datetime']-loan['posted_datetime']\n",
    "\n",
    "#represents time to raising loan in number of days (for matplotlib)\n",
    "loan['loanspeed_days'] = loan['loan_speed'] / pd.Timedelta(hours=24)\n",
    "\n",
    "#creates loan_year column \n",
    "loan['loan_year'] = [loan['raised_datetime'][x].year for x in loan.index]\n"
   ]
  },
  {
   "cell_type": "code",
   "execution_count": 8,
   "id": "monthly-rouge",
   "metadata": {},
   "outputs": [],
   "source": [
    "#Function for counting number of borrowers from number of entries in gender column \n",
    "def count_borrowers(lst):\n",
    "    if type(lst) != float:\n",
    "        return len(lst.split(','))\n",
    "    else:\n",
    "        return 1\n",
    "\n",
    "loan['borrower_n'] = loan['BORROWER_GENDERS'].apply(count_borrowers)\n"
   ]
  },
  {
   "cell_type": "code",
   "execution_count": 22,
   "id": "meaningful-rubber",
   "metadata": {},
   "outputs": [],
   "source": [
    "#reads in csv of purchasing power parity values from world bank\n",
    "#first four rows are skipped to avoid irrelevant metadata\n",
    "ppp = pd.read_csv('../data/world_bank_ppp.csv', skiprows=4)\n",
    "\n",
    "#Renames Country Name column to match loan dataframe for merge \n",
    "ppp.rename(columns={'Country Name': 'COUNTRY_NAME'}, inplace=True)"
   ]
  },
  {
   "cell_type": "code",
   "execution_count": 27,
   "id": "desperate-jamaica",
   "metadata": {},
   "outputs": [],
   "source": [
    "#merging ppp data for years where Kiva loans were active (2006-2019)\n",
    "loan = loan.merge(how='inner', on='COUNTRY_NAME', \n",
    "                  right=ppp[['COUNTRY_NAME', '2006', '2007', '2008', '2009', '2010', '2011',\n",
    "                            '2012', '2013', '2014', '2015', '2016','2017', '2018', '2019']])\n"
   ]
  },
  {
   "cell_type": "code",
   "execution_count": 28,
   "id": "structured-design",
   "metadata": {},
   "outputs": [
    {
     "data": {
      "text/plain": [
       "Index(['Unnamed: 0', 'LOAN_ID', 'LOAN_NAME', 'ORIGINAL_LANGUAGE',\n",
       "       'DESCRIPTION', 'DESCRIPTION_TRANSLATED', 'FUNDED_AMOUNT', 'LOAN_AMOUNT',\n",
       "       'STATUS', 'IMAGE_ID', 'VIDEO_ID', 'ACTIVITY_NAME', 'SECTOR_NAME',\n",
       "       'LOAN_USE', 'COUNTRY_CODE', 'COUNTRY_NAME', 'TOWN_NAME',\n",
       "       'CURRENCY_POLICY', 'CURRENCY_EXCHANGE_COVERAGE_RATE', 'CURRENCY',\n",
       "       'PARTNER_ID', 'POSTED_TIME', 'PLANNED_EXPIRATION_TIME', 'DISBURSE_TIME',\n",
       "       'RAISED_TIME', 'LENDER_TERM', 'NUM_LENDERS_TOTAL',\n",
       "       'NUM_JOURNAL_ENTRIES', 'NUM_BULK_ENTRIES', 'TAGS', 'BORROWER_NAMES',\n",
       "       'BORROWER_GENDERS', 'BORROWER_PICTURED', 'REPAYMENT_INTERVAL',\n",
       "       'DISTRIBUTION_MODEL', 'posted_datetime', 'raised_datetime',\n",
       "       'loan_speed', 'loanspeed_days', 'loan_year', 'borrower_n',\n",
       "       'Country Name', '2006_x', '2007_x', '2008_x', '2009_x', '2010_x',\n",
       "       '2011_x', '2012_x', '2013_x', '2014_x', '2015_x', '2016_x', '2017_x',\n",
       "       '2018_x', '2019_x', '2006_y', '2007_y', '2008_y', '2009_y', '2010_y',\n",
       "       '2011_y', '2012_y', '2013_y', '2014_y', '2015_y', '2016_y', '2017_y',\n",
       "       '2018_y', '2019_y', '2006', '2007', '2008', '2009', '2010', '2011',\n",
       "       '2012', '2013', '2014', '2015', '2016', '2017', '2018', '2019'],\n",
       "      dtype='object')"
      ]
     },
     "execution_count": 28,
     "metadata": {},
     "output_type": "execute_result"
    }
   ],
   "source": [
    "loan.columns"
   ]
  },
  {
   "cell_type": "code",
   "execution_count": null,
   "id": "massive-custom",
   "metadata": {},
   "outputs": [],
   "source": []
  }
 ],
 "metadata": {
  "kernelspec": {
   "display_name": "Python 3",
   "language": "python",
   "name": "python3"
  },
  "language_info": {
   "codemirror_mode": {
    "name": "ipython",
    "version": 3
   },
   "file_extension": ".py",
   "mimetype": "text/x-python",
   "name": "python",
   "nbconvert_exporter": "python",
   "pygments_lexer": "ipython3",
   "version": "3.9.1"
  }
 },
 "nbformat": 4,
 "nbformat_minor": 5
}
