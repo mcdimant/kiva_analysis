{
 "cells": [
  {
   "cell_type": "code",
   "execution_count": 1,
   "id": "tutorial-loading",
   "metadata": {},
   "outputs": [],
   "source": [
    "import pandas as pd\n",
    "import numpy as np\n",
    "import datetime\n",
    "import boto3\n",
    "from matplotlib import pyplot as plt\n",
    "from matplotlib.dates import DateFormatter, date2num\n",
    "import seaborn as sns\n",
    "import scipy.stats as stats"
   ]
  },
  {
   "cell_type": "code",
   "execution_count": 2,
   "id": "round-spanish",
   "metadata": {},
   "outputs": [],
   "source": [
    "#reads in 10k row sample of Kiva's loan data\n",
    "loan = pd.read_csv('../data/sample_data.csv')"
   ]
  },
  {
   "cell_type": "code",
   "execution_count": 3,
   "id": "professional-small",
   "metadata": {},
   "outputs": [],
   "source": [
    "#converting string representations of time to Datetime objects\n",
    "loan['posted_datetime'] = pd.to_datetime(loan['POSTED_TIME'])\n",
    "loan['raised_datetime'] = pd.to_datetime(loan['RAISED_TIME'])"
   ]
  },
  {
   "cell_type": "code",
   "execution_count": 5,
   "id": "amateur-highway",
   "metadata": {},
   "outputs": [],
   "source": [
    "#creates loan_speed column as difference between raised and posted datetimes\n",
    "loan['loan_speed'] = loan['raised_datetime']-loan['posted_datetime']"
   ]
  },
  {
   "cell_type": "code",
   "execution_count": 6,
   "id": "functioning-owner",
   "metadata": {},
   "outputs": [],
   "source": [
    "#represents time to raising loan in number of days (for matplotlib)\n",
    "loan['loanspeed_days'] = loan['loan_speed'] / pd.Timedelta(hours=24)\n"
   ]
  },
  {
   "cell_type": "code",
   "execution_count": 7,
   "id": "ambient-justice",
   "metadata": {},
   "outputs": [],
   "source": [
    "#creates loan_year column \n",
    "loan['loan_year'] = [loan['raised_datetime'][x].year for x in loan.index]\n"
   ]
  },
  {
   "cell_type": "code",
   "execution_count": 8,
   "id": "threaded-sailing",
   "metadata": {},
   "outputs": [],
   "source": [
    "#Function for counting number of borrowers from number of entries in gender column \n",
    "def count_borrowers(lst):\n",
    "    if type(lst) != float:\n",
    "        return len(lst.split(','))\n",
    "    else:\n",
    "        return 1"
   ]
  },
  {
   "cell_type": "code",
   "execution_count": 9,
   "id": "personalized-drink",
   "metadata": {},
   "outputs": [],
   "source": [
    "loan['borrower_n'] = loan['BORROWER_GENDERS'].apply(count_borrowers)\n"
   ]
  },
  {
   "cell_type": "code",
   "execution_count": null,
   "id": "assured-rabbit",
   "metadata": {},
   "outputs": [],
   "source": [
    "#reads in csv of purchasing power parity values from world bank\n",
    "ppp = pd.read_csv('../data/world_bank_PPP.csv', skiprows=4)\n"
   ]
  }
 ],
 "metadata": {
  "kernelspec": {
   "display_name": "Python 3",
   "language": "python",
   "name": "python3"
  },
  "language_info": {
   "codemirror_mode": {
    "name": "ipython",
    "version": 3
   },
   "file_extension": ".py",
   "mimetype": "text/x-python",
   "name": "python",
   "nbconvert_exporter": "python",
   "pygments_lexer": "ipython3",
   "version": "3.9.1"
  }
 },
 "nbformat": 4,
 "nbformat_minor": 5
}
