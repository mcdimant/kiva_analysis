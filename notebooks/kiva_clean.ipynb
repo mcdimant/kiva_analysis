{
 "cells": [
  {
   "cell_type": "code",
   "execution_count": 1,
   "id": "southwest-canvas",
   "metadata": {},
   "outputs": [],
   "source": [
    "import pandas as pd\n",
    "import numpy as np\n",
    "import datetime\n",
    "import boto3\n",
    "from matplotlib import pyplot as plt\n",
    "from matplotlib.dates import DateFormatter, date2num\n",
    "import seaborn as sns\n",
    "import scipy.stats as stats\n",
    "import difflib"
   ]
  },
  {
   "cell_type": "code",
   "execution_count": 2,
   "id": "dressed-equilibrium",
   "metadata": {},
   "outputs": [],
   "source": [
    "#reads in sample of kiva data (10k rows)\n",
    "loan = pd.read_csv('../data/sample_data.csv')"
   ]
  },
  {
   "cell_type": "code",
   "execution_count": 3,
   "id": "generic-worcester",
   "metadata": {},
   "outputs": [],
   "source": [
    "#converting string representations of time to Datetime objects\n",
    "loan['posted_datetime'] = pd.to_datetime(loan['POSTED_TIME'])\n",
    "loan['raised_datetime'] = pd.to_datetime(loan['RAISED_TIME'])\n",
    "\n",
    "#creates loan_speed column as difference between raised and posted datetimes\n",
    "loan['loan_speed'] = loan['raised_datetime']-loan['posted_datetime']\n",
    "\n",
    "#represents time to raising loan in number of days (for matplotlib)\n",
    "loan['loanspeed_days'] = loan['loan_speed'] / pd.Timedelta(hours=24)\n",
    "\n",
    "#drops na values\n",
    "loan.dropna(subset=['raised_datetime'], inplace=True)\n",
    "\n",
    "#creates loan_year column \n",
    "loan['loan_year'] = [loan['raised_datetime'][x].year for x in loan.index]\n"
   ]
  },
  {
   "cell_type": "code",
   "execution_count": 4,
   "id": "conservative-safety",
   "metadata": {},
   "outputs": [],
   "source": [
    "#Function for counting number of borrowers from number of entries in gender column \n",
    "def count_borrowers(lst):\n",
    "    if type(lst) != float:\n",
    "        return len(lst.split(','))\n",
    "    else:\n",
    "        return 1\n",
    "\n",
    "loan['borrower_n'] = loan['BORROWER_GENDERS'].apply(count_borrowers)\n"
   ]
  },
  {
   "cell_type": "code",
   "execution_count": 7,
   "id": "colored-radical",
   "metadata": {},
   "outputs": [],
   "source": [
    "#reads in csv of purchasing power parity values from world bank\n",
    "#first four rows are skipped to avoid irrelevant metadata\n",
    "ppp = pd.read_csv('../data/world_bank_ppp.csv', skiprows=4, index_col='Country Name')\n",
    "\n",
    "#Renames Country Name column to match loan dataframe for merge \n",
    "#ppp.rename(columns={'Country Name': 'COUNTRY_NAME'}, inplace=True)\n",
    "\n"
   ]
  },
  {
   "cell_type": "code",
   "execution_count": 8,
   "id": "hundred-queensland",
   "metadata": {},
   "outputs": [
    {
     "data": {
      "text/plain": [
       "0.580266058444977"
      ]
     },
     "execution_count": 8,
     "metadata": {},
     "output_type": "execute_result"
    }
   ],
   "source": [
    "def rel_ppp(country, loan_year):\n",
    "    for c, y in zip(country, loan_year):\n",
    "        if y == 2020:\n",
    "            loan.at[c, '2019']\n",
    "        elif y <= 2020:\n",
    "            return ppp.at[c, str(y)]\n",
    "        else:\n",
    "            return 0\n",
    "\n",
    "rel_ppp(loan['COUNTRY_NAME'], loan['loan_year'])"
   ]
  },
  {
   "cell_type": "code",
   "execution_count": 15,
   "id": "accepting-jackson",
   "metadata": {},
   "outputs": [
    {
     "name": "stdout",
     "output_type": "stream",
     "text": [
      "the democratic republic of the congo\n",
      "kyrgyzstan\n",
      "egypt\n",
      "palestine\n",
      "congo\n",
      "lao people's democratic republic\n",
      "myanmar (burma)\n",
      "yemen\n"
     ]
    }
   ],
   "source": [
    "\n",
    "\n",
    "#Check for spelling difference between country names in loan data and county names in ppp data\n",
    "\n",
    "ppp.reset_index(inplace=True)\n",
    "\n",
    "#set all countries names to lower case \n",
    "loan['COUNTRY_NAME'] = [c.lower() for c in loan['COUNTRY_NAME']]\n",
    "ppp['Country Name'] = [c.lower() for c in ppp['Country Name']]\n",
    "\n",
    "#returns list of countries that are not matches between the data sets\n",
    "for c in set(loan['COUNTRY_NAME']):\n",
    "    match_tup = (c, difflib.get_close_matches(c, ppp['Country Name'], cutoff=1))\n",
    "    if match_tup[1] == []:\n",
    "        print(match_tup[0])\n",
    "        \n",
    "#Only 8 out of 82 countries are not matches. Most of the remaining difference are due to political\n",
    "#differences in naming, rather than failure to do a fuzzy match. \n",
    "\n",
    "\n",
    "ppp = ppp.rename(index={'west bank and gaza':'palestine', 'congo, rep':'congo', 'myanmar ':'myanmar (burma)',\n",
    "'yemen, rep.':'yemen', 'lao pdr':'lao people''s democratic republic',\n",
    "'congo, dem. rep.':'the democratic republic of the congo', 'egypt arab rep.': 'egypt'})"
   ]
  },
  {
   "cell_type": "code",
   "execution_count": null,
   "id": "smaller-prerequisite",
   "metadata": {},
   "outputs": [],
   "source": [
    "    \n",
    "    #if (match_tup[0] != match_tup[1]):\n",
    "    #    print(c)\n",
    "    #if match_typ[0] == match_tup[1]\n",
    "    \n",
    "\n",
    "#holder = []\n",
    "#for c,y in zip(loan['COUNTRY_NAME'], loan['loan_year']):\n",
    "#    holder.append((c,y))\n",
    "    \n",
    "#for t in holder:\n",
    "#    holder.append(ppp.at[t[0],str(t[1])])\n",
    "\n",
    "\n",
    "#Kyrgyzstan\n",
    "#set(loan['COUNTRY_NAME'])\n",
    "\n",
    "#set(loan['COUNTRY_NAME'])\n"
   ]
  },
  {
   "cell_type": "code",
   "execution_count": null,
   "id": "continental-music",
   "metadata": {},
   "outputs": [],
   "source": [
    "#merging ppp data for years where Kiva loans were active (2006-2019)\n",
    "loan = loan.merge(how='inner', left_on='COUNTRY_NAME', right_on ='Country Name',\n",
    "                  right=ppp[['2006', '2007', '2008', '2009', '2010', '2011',\n",
    "                            '2012', '2013', '2014', '2015', '2016','2017', '2018', '2019']])\n"
   ]
  },
  {
   "cell_type": "code",
   "execution_count": null,
   "id": "fifth-neutral",
   "metadata": {},
   "outputs": [],
   "source": [
    "\n",
    "def rel_pp(loan_year):\n",
    "    if loan_year = 2020:\n",
    "        return ppp.at[]\n",
    "\n",
    "\n",
    "        "
   ]
  },
  {
   "cell_type": "code",
   "execution_count": null,
   "id": "generic-isaac",
   "metadata": {},
   "outputs": [],
   "source": []
  },
  {
   "cell_type": "code",
   "execution_count": null,
   "id": "painful-healing",
   "metadata": {},
   "outputs": [],
   "source": []
  }
 ],
 "metadata": {
  "kernelspec": {
   "display_name": "Python 3",
   "language": "python",
   "name": "python3"
  },
  "language_info": {
   "codemirror_mode": {
    "name": "ipython",
    "version": 3
   },
   "file_extension": ".py",
   "mimetype": "text/x-python",
   "name": "python",
   "nbconvert_exporter": "python",
   "pygments_lexer": "ipython3",
   "version": "3.9.1"
  }
 },
 "nbformat": 4,
 "nbformat_minor": 5
}
